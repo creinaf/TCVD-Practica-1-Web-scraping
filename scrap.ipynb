{
 "cells": [
  {
   "cell_type": "code",
   "execution_count": 83,
   "id": "ee70342e",
   "metadata": {},
   "outputs": [],
   "source": [
    "from bs4 import BeautifulSoup\n",
    "import requests\n",
    "import numpy as np\n",
    "import pandas as pd"
   ]
  },
  {
   "cell_type": "code",
   "execution_count": 84,
   "id": "42e6d73b",
   "metadata": {},
   "outputs": [],
   "source": [
    "# Fijamos url de la web\n",
    "url = 'https://tarifaluzhora.es/'\n",
    "\n",
    "# Hacemos la petición a la página\n",
    "response = requests.get(url)\n",
    "soup = BeautifulSoup(response.text, 'html.parser')"
   ]
  },
  {
   "cell_type": "code",
   "execution_count": 85,
   "id": "08d90160",
   "metadata": {},
   "outputs": [],
   "source": [
    "# Obtenemos las horas\n",
    "horas = soup.find_all('span', itemprop=\"description\")\n",
    "\n",
    "# Obtenemos los precios\n",
    "precios = soup.find_all('span', itemprop=\"price\")\n",
    "\n",
    "# Obtenemos la fecha\n",
    "fecha = soup.find('input', {'name': 'date'}).get('value')\n",
    "\n",
    "# Creamos un array con el contenido de las horas\n",
    "columnas = []\n",
    "for h in horas:\n",
    "    columnas.append(h.text)\n",
    "    \n",
    "# Creamos un array con el contenido de los precios\n",
    "contenido = []\n",
    "for p in precios:\n",
    "    contenido.append(p.text)"
   ]
  },
  {
   "cell_type": "code",
   "execution_count": 86,
   "id": "075b7007",
   "metadata": {},
   "outputs": [
    {
     "data": {
      "text/html": [
       "<div>\n",
       "<style scoped>\n",
       "    .dataframe tbody tr th:only-of-type {\n",
       "        vertical-align: middle;\n",
       "    }\n",
       "\n",
       "    .dataframe tbody tr th {\n",
       "        vertical-align: top;\n",
       "    }\n",
       "\n",
       "    .dataframe thead th {\n",
       "        text-align: right;\n",
       "    }\n",
       "</style>\n",
       "<table border=\"1\" class=\"dataframe\">\n",
       "  <thead>\n",
       "    <tr style=\"text-align: right;\">\n",
       "      <th></th>\n",
       "      <th>fecha</th>\n",
       "      <th>00h - 01h:</th>\n",
       "      <th>01h - 02h:</th>\n",
       "      <th>02h - 03h:</th>\n",
       "      <th>03h - 04h:</th>\n",
       "      <th>04h - 05h:</th>\n",
       "      <th>05h - 06h:</th>\n",
       "      <th>06h - 07h:</th>\n",
       "      <th>07h - 08h:</th>\n",
       "      <th>08h - 09h:</th>\n",
       "      <th>...</th>\n",
       "      <th>14h - 15h:</th>\n",
       "      <th>15h - 16h:</th>\n",
       "      <th>16h - 17h:</th>\n",
       "      <th>17h - 18h:</th>\n",
       "      <th>18h - 19h:</th>\n",
       "      <th>19h - 20h:</th>\n",
       "      <th>20h - 21h:</th>\n",
       "      <th>21h - 22h:</th>\n",
       "      <th>22h - 23h:</th>\n",
       "      <th>23h - 24h:</th>\n",
       "    </tr>\n",
       "  </thead>\n",
       "  <tbody>\n",
       "    <tr>\n",
       "      <th>0</th>\n",
       "      <td>30/03/2022</td>\n",
       "      <td>0.33468 €/kWh</td>\n",
       "      <td>0.31902 €/kWh</td>\n",
       "      <td>0.30903 €/kWh</td>\n",
       "      <td>0.29593 €/kWh</td>\n",
       "      <td>0.29989 €/kWh</td>\n",
       "      <td>0.3092 €/kWh</td>\n",
       "      <td>0.32472 €/kWh</td>\n",
       "      <td>0.32824 €/kWh</td>\n",
       "      <td>0.37147 €/kWh</td>\n",
       "      <td>...</td>\n",
       "      <td>0.33943 €/kWh</td>\n",
       "      <td>0.33612 €/kWh</td>\n",
       "      <td>0.32761 €/kWh</td>\n",
       "      <td>0.31185 €/kWh</td>\n",
       "      <td>0.39006 €/kWh</td>\n",
       "      <td>0.4168 €/kWh</td>\n",
       "      <td>0.43635 €/kWh</td>\n",
       "      <td>0.44541 €/kWh</td>\n",
       "      <td>0.35615 €/kWh</td>\n",
       "      <td>0.35182 €/kWh</td>\n",
       "    </tr>\n",
       "  </tbody>\n",
       "</table>\n",
       "<p>1 rows × 25 columns</p>\n",
       "</div>"
      ],
      "text/plain": [
       "        fecha     00h - 01h:     01h - 02h:     02h - 03h:     03h - 04h:  \\\n",
       "0  30/03/2022  0.33468 €/kWh  0.31902 €/kWh  0.30903 €/kWh  0.29593 €/kWh   \n",
       "\n",
       "      04h - 05h:    05h - 06h:     06h - 07h:     07h - 08h:     08h - 09h:  \\\n",
       "0  0.29989 €/kWh  0.3092 €/kWh  0.32472 €/kWh  0.32824 €/kWh  0.37147 €/kWh   \n",
       "\n",
       "   ...     14h - 15h:     15h - 16h:     16h - 17h:     17h - 18h:  \\\n",
       "0  ...  0.33943 €/kWh  0.33612 €/kWh  0.32761 €/kWh  0.31185 €/kWh   \n",
       "\n",
       "      18h - 19h:    19h - 20h:     20h - 21h:     21h - 22h:     22h - 23h:  \\\n",
       "0  0.39006 €/kWh  0.4168 €/kWh  0.43635 €/kWh  0.44541 €/kWh  0.35615 €/kWh   \n",
       "\n",
       "      23h - 24h:  \n",
       "0  0.35182 €/kWh  \n",
       "\n",
       "[1 rows x 25 columns]"
      ]
     },
     "execution_count": 86,
     "metadata": {},
     "output_type": "execute_result"
    }
   ],
   "source": [
    "# Creamos un dataset con los datos del primer día, cuyas columnas son la fecha y las horas\n",
    "df = pd.DataFrame(data=[np.array(contenido)], columns=columnas)\n",
    "df['fecha'] = fecha\n",
    "cols = df.columns.tolist()\n",
    "cols = cols[-1:] + cols[:-1]\n",
    "df = df[cols]\n",
    "df"
   ]
  },
  {
   "cell_type": "code",
   "execution_count": null,
   "id": "0a0e3d72",
   "metadata": {},
   "outputs": [],
   "source": []
  }
 ],
 "metadata": {
  "kernelspec": {
   "display_name": "Python 3 (ipykernel)",
   "language": "python",
   "name": "python3"
  },
  "language_info": {
   "codemirror_mode": {
    "name": "ipython",
    "version": 3
   },
   "file_extension": ".py",
   "mimetype": "text/x-python",
   "name": "python",
   "nbconvert_exporter": "python",
   "pygments_lexer": "ipython3",
   "version": "3.9.1"
  }
 },
 "nbformat": 4,
 "nbformat_minor": 5
}
