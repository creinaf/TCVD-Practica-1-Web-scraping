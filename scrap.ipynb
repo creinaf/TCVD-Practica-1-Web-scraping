{
 "cells": [
  {
   "cell_type": "markdown",
   "id": "862778cc",
   "metadata": {},
   "source": [
    "<div style=\"width: 100%; clear: both;\">\n",
    "<div style=\"float: left; width: 50%;\">\n",
    "<img src=\"http://www.uoc.edu/portal/_resources/common/imatges/marca_UOC/UOC_Masterbrand.jpg\", align=\"left\">\n",
    "</div>\n",
    "<div style=\"float: right; width: 50%;\">\n",
    "<p style=\"margin: 0; padding-top: 22px; text-align:right;\">M2.851 · Tipología y ciclo de vida de los datos · Práctica 1</p>\n",
    "<p style=\"margin: 0; text-align:right;\">2021-2 · Máster universitario en Ciencia de datos (Data science)</p>\n",
    "<p style=\"margin: 0; text-align:right; padding-button: 100px;\">Estudios de Informática, Multimedia y Telecomunicación</p>\n",
    "</div>\n",
    "</div>\n",
    "<div style=\"width:100%;\">&nbsp;</div>\n",
    "\n",
    "******\n",
    "   # Práctica 1: Web scraping\n",
    "******"
   ]
  },
  {
   "cell_type": "markdown",
   "id": "e2bf4aa0",
   "metadata": {},
   "source": [
    "<div class=\"alert alert-block alert-info\">\n",
    "<strong>Autores: CARLOS MAS ESTÉVEZ Y CLAUDIA REINA FAJARDO</strong>\n",
    "</div>"
   ]
  },
  {
   "cell_type": "code",
   "execution_count": 177,
   "id": "ee70342e",
   "metadata": {},
   "outputs": [],
   "source": [
    "# Importamos las librerías necesarias\n",
    "from bs4 import BeautifulSoup\n",
    "import requests\n",
    "import numpy as np\n",
    "import pandas as pd"
   ]
  },
  {
   "cell_type": "markdown",
   "id": "939359fc",
   "metadata": {},
   "source": [
    "En primer lugar, haremos una prueba con la página principal de la web escogida, que nos ofrece la tarifa del presente día.\n",
    "\n",
    "A través de esta toma de contacto, crearemos un dataset con tantas columnas como la fecha y el horario y con una sola fila con todos los precios del día."
   ]
  },
  {
   "cell_type": "code",
   "execution_count": 178,
   "id": "a99291bd",
   "metadata": {},
   "outputs": [],
   "source": [
    "# Fijamos url de la web\n",
    "url = 'https://tarifaluzhora.es/'\n",
    "\n",
    "# Hacemos la petición a la página\n",
    "response = requests.get(url)\n",
    "soup = BeautifulSoup(response.text, 'html.parser')"
   ]
  },
  {
   "cell_type": "code",
   "execution_count": 179,
   "id": "67826b04",
   "metadata": {},
   "outputs": [],
   "source": [
    "# Obtenemos las horas\n",
    "horas = soup.find_all('span', itemprop=\"description\")\n",
    "\n",
    "# Obtenemos los precios\n",
    "precios = soup.find_all('span', itemprop=\"price\")\n",
    "\n",
    "# Obtenemos la fecha\n",
    "date = soup.find('input', {'name': 'date'}).get('value')\n",
    "\n",
    "# Creamos un array con el contenido de las horas\n",
    "columnas = ['fecha']\n",
    "for h in horas:\n",
    "    columnas.append(h.text)\n",
    "    \n",
    "# Creamos un array con el contenido de los precios\n",
    "contenido = [date]\n",
    "for p in precios:\n",
    "    contenido.append(p.text)"
   ]
  },
  {
   "cell_type": "code",
   "execution_count": 180,
   "id": "985b0947",
   "metadata": {},
   "outputs": [
    {
     "data": {
      "text/html": [
       "<div>\n",
       "<style scoped>\n",
       "    .dataframe tbody tr th:only-of-type {\n",
       "        vertical-align: middle;\n",
       "    }\n",
       "\n",
       "    .dataframe tbody tr th {\n",
       "        vertical-align: top;\n",
       "    }\n",
       "\n",
       "    .dataframe thead th {\n",
       "        text-align: right;\n",
       "    }\n",
       "</style>\n",
       "<table border=\"1\" class=\"dataframe\">\n",
       "  <thead>\n",
       "    <tr style=\"text-align: right;\">\n",
       "      <th></th>\n",
       "      <th>fecha</th>\n",
       "      <th>00h - 01h:</th>\n",
       "      <th>01h - 02h:</th>\n",
       "      <th>02h - 03h:</th>\n",
       "      <th>03h - 04h:</th>\n",
       "      <th>04h - 05h:</th>\n",
       "      <th>05h - 06h:</th>\n",
       "      <th>06h - 07h:</th>\n",
       "      <th>07h - 08h:</th>\n",
       "      <th>08h - 09h:</th>\n",
       "      <th>...</th>\n",
       "      <th>14h - 15h:</th>\n",
       "      <th>15h - 16h:</th>\n",
       "      <th>16h - 17h:</th>\n",
       "      <th>17h - 18h:</th>\n",
       "      <th>18h - 19h:</th>\n",
       "      <th>19h - 20h:</th>\n",
       "      <th>20h - 21h:</th>\n",
       "      <th>21h - 22h:</th>\n",
       "      <th>22h - 23h:</th>\n",
       "      <th>23h - 24h:</th>\n",
       "    </tr>\n",
       "  </thead>\n",
       "  <tbody>\n",
       "    <tr>\n",
       "      <th>0</th>\n",
       "      <td>30/03/2022</td>\n",
       "      <td>0.33468 €/kWh</td>\n",
       "      <td>0.31902 €/kWh</td>\n",
       "      <td>0.30903 €/kWh</td>\n",
       "      <td>0.29593 €/kWh</td>\n",
       "      <td>0.29989 €/kWh</td>\n",
       "      <td>0.3092 €/kWh</td>\n",
       "      <td>0.32472 €/kWh</td>\n",
       "      <td>0.32824 €/kWh</td>\n",
       "      <td>0.37147 €/kWh</td>\n",
       "      <td>...</td>\n",
       "      <td>0.33943 €/kWh</td>\n",
       "      <td>0.33612 €/kWh</td>\n",
       "      <td>0.32761 €/kWh</td>\n",
       "      <td>0.31185 €/kWh</td>\n",
       "      <td>0.39006 €/kWh</td>\n",
       "      <td>0.4168 €/kWh</td>\n",
       "      <td>0.43635 €/kWh</td>\n",
       "      <td>0.44541 €/kWh</td>\n",
       "      <td>0.35615 €/kWh</td>\n",
       "      <td>0.35182 €/kWh</td>\n",
       "    </tr>\n",
       "  </tbody>\n",
       "</table>\n",
       "<p>1 rows × 25 columns</p>\n",
       "</div>"
      ],
      "text/plain": [
       "        fecha     00h - 01h:     01h - 02h:     02h - 03h:     03h - 04h:  \\\n",
       "0  30/03/2022  0.33468 €/kWh  0.31902 €/kWh  0.30903 €/kWh  0.29593 €/kWh   \n",
       "\n",
       "      04h - 05h:    05h - 06h:     06h - 07h:     07h - 08h:     08h - 09h:  \\\n",
       "0  0.29989 €/kWh  0.3092 €/kWh  0.32472 €/kWh  0.32824 €/kWh  0.37147 €/kWh   \n",
       "\n",
       "   ...     14h - 15h:     15h - 16h:     16h - 17h:     17h - 18h:  \\\n",
       "0  ...  0.33943 €/kWh  0.33612 €/kWh  0.32761 €/kWh  0.31185 €/kWh   \n",
       "\n",
       "      18h - 19h:    19h - 20h:     20h - 21h:     21h - 22h:     22h - 23h:  \\\n",
       "0  0.39006 €/kWh  0.4168 €/kWh  0.43635 €/kWh  0.44541 €/kWh  0.35615 €/kWh   \n",
       "\n",
       "      23h - 24h:  \n",
       "0  0.35182 €/kWh  \n",
       "\n",
       "[1 rows x 25 columns]"
      ]
     },
     "execution_count": 180,
     "metadata": {},
     "output_type": "execute_result"
    }
   ],
   "source": [
    "# Creamos un dataset con los datos del primer día, cuyas columnas son la fecha y las horas\n",
    "df = pd.DataFrame(data=[np.array(contenido)], columns=columnas)\n",
    "df"
   ]
  },
  {
   "cell_type": "markdown",
   "id": "caf79a61",
   "metadata": {},
   "source": [
    "Cuando, mediante el formulario en forma de calendario de la web accedemos a una fecha anterior, se nos redirige a una url con el siguiente formato:\n",
    "* https://tarifaluzhora.es/?tarifa=pcb&fecha={DD}%2F{MM}%2F{YYYY}\n",
    "Donde:\n",
    "* {DD} es el día con dos dígitos\n",
    "* {MM} es el mes con dos dígitos\n",
    "* {YYYY} es el año con cuatro dígitos\n",
    "También hemos observado que no ofrece datos más allá del 01 de junio de 2021.\n",
    "\n",
    "Con toda esta información procedemos a crear un array de urls que recorreremos para realizar la extracción y crear la base de datos."
   ]
  },
  {
   "cell_type": "code",
   "execution_count": 181,
   "id": "860eda94",
   "metadata": {},
   "outputs": [],
   "source": [
    "# Creamos array vacio de urls\n",
    "urls=[]\n",
    "\n",
    "# Recorremos rango de fechas hacia atrás\n",
    "for i in range(2022,2020,-1):\n",
    "    # Si la fecha es 2022 solo queremos los tres primeros meses\n",
    "    if i==2022:\n",
    "        for j in range(3,0,-1):\n",
    "            # Para febrero sólo recorremos 28 días\n",
    "            if j==2:\n",
    "                for k in range(28,0,-1):\n",
    "                    url = 'https://tarifaluzhora.es/?tarifa=pcb&fecha='+str(k).zfill(2)+'%2F'+str(j).zfill(2)+'%2F'+str(i)\n",
    "                    urls.append(url)\n",
    "            else:\n",
    "                # Para el resto de meses recorremos 31\n",
    "                for k in range(31,0,-1):\n",
    "                    url = 'https://tarifaluzhora.es/?tarifa=pcb&fecha='+str(k).zfill(2)+'%2F'+str(j).zfill(2)+'%2F'+str(i)\n",
    "                    urls.append(url)\n",
    "    # Si la fecha es 2021 solo queremos hasta junio\n",
    "    else:\n",
    "        for j in range(12,5,-1):\n",
    "            # Para junio, septiembre y noviembre recorremos 30 días\n",
    "            if (j==6) | (j==9) | (j==11):\n",
    "                for k in range(30,0,-1):\n",
    "                    url = 'https://tarifaluzhora.es/?tarifa=pcb&fecha='+str(k).zfill(2)+'%2F'+str(j).zfill(2)+'%2F'+str(i)\n",
    "                    urls.append(url)\n",
    "            else:\n",
    "                # Para el resto recorremos 31 días\n",
    "                for k in range(31,0,-1):\n",
    "                    url = 'https://tarifaluzhora.es/?tarifa=pcb&fecha='+str(k).zfill(2)+'%2F'+str(j).zfill(2)+'%2F'+str(i)\n",
    "                    urls.append(url)"
   ]
  },
  {
   "cell_type": "code",
   "execution_count": 182,
   "id": "b8882228",
   "metadata": {},
   "outputs": [
    {
     "data": {
      "text/plain": [
       "'https://tarifaluzhora.es/?tarifa=pcb&fecha=30%2F03%2F2022'"
      ]
     },
     "execution_count": 182,
     "metadata": {},
     "output_type": "execute_result"
    }
   ],
   "source": [
    "# ELiminamos el 31 que es mañana y la fecha de hoy, que ya la tenemos\n",
    "urls.pop(0)\n",
    "urls.pop(0)"
   ]
  },
  {
   "cell_type": "code",
   "execution_count": null,
   "id": "e32196d1",
   "metadata": {},
   "outputs": [],
   "source": [
    "# Recorremos el array de urls\n",
    "for i in urls:\n",
    "    # Fijamos url de la web\n",
    "    url = i\n",
    "\n",
    "    # Hacemos la petición a la página\n",
    "    response = requests.get(url)\n",
    "    soup = BeautifulSoup(response.text, 'html.parser')\n",
    "\n",
    "    # Obtenemos los precios\n",
    "    precios = soup.find_all('span', itemprop=\"price\")\n",
    "\n",
    "    # Obtenemos la fecha\n",
    "    fecha = soup.find('input', {'name': 'date'}).get('value')\n",
    "    \n",
    "    # Creamos un array con el contenido de las horas\n",
    "    columnas = ['fecha']\n",
    "    for h in horas:\n",
    "        columnas.append(h.text)\n",
    "\n",
    "    # Creamos un array con el contenido de los precios\n",
    "    contenido = [fecha]\n",
    "    for p in precios:\n",
    "        contenido.append(p.text)\n",
    "        \n",
    "    # Creamos el df\n",
    "    df1 = pd.DataFrame(data=[np.array(contenido)], columns=columnas)\n",
    "    \n",
    "    # Lo unimos al df original para crear la bd\n",
    "    df = pd.concat([df,df1])"
   ]
  },
  {
   "cell_type": "code",
   "execution_count": null,
   "id": "fd85f676",
   "metadata": {},
   "outputs": [],
   "source": [
    "# Cabecera del dataset\n",
    "df.head()"
   ]
  },
  {
   "cell_type": "code",
   "execution_count": null,
   "id": "0cf17e9c",
   "metadata": {},
   "outputs": [],
   "source": [
    "# Cola del dataset\n",
    "df.tail()"
   ]
  },
  {
   "cell_type": "markdown",
   "id": "67bdde0e",
   "metadata": {},
   "source": [
    "A partir de aquí podemos añadir columnas de media y desviación. \n",
    "\n",
    "Sacar mínimos, máximos y tendencias.\n",
    "\n",
    "Hacer gráficas y predicciones.\n",
    "\n",
    "..."
   ]
  },
  {
   "cell_type": "code",
   "execution_count": null,
   "id": "6494158b",
   "metadata": {},
   "outputs": [],
   "source": []
  }
 ],
 "metadata": {
  "kernelspec": {
   "display_name": "Python 3 (ipykernel)",
   "language": "python",
   "name": "python3"
  },
  "language_info": {
   "codemirror_mode": {
    "name": "ipython",
    "version": 3
   },
   "file_extension": ".py",
   "mimetype": "text/x-python",
   "name": "python",
   "nbconvert_exporter": "python",
   "pygments_lexer": "ipython3",
   "version": "3.9.1"
  }
 },
 "nbformat": 4,
 "nbformat_minor": 5
}
