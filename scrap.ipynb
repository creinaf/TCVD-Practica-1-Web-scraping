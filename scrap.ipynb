{
 "cells": [
  {
   "cell_type": "code",
   "execution_count": 9,
   "id": "ee70342e",
   "metadata": {},
   "outputs": [
    {
     "name": "stdout",
     "output_type": "stream",
     "text": [
      "Requirement already satisfied: BeautifulSoup4 in c:\\users\\claus\\anaconda3\\envs\\environment_uoc20212pec2\\lib\\site-packages (4.10.0)\n",
      "Requirement already satisfied: soupsieve>1.2 in c:\\users\\claus\\anaconda3\\envs\\environment_uoc20212pec2\\lib\\site-packages (from BeautifulSoup4) (2.3.1)\n",
      "Requirement already satisfied: requests in c:\\users\\claus\\anaconda3\\envs\\environment_uoc20212pec2\\lib\\site-packages (2.27.1)\n",
      "Requirement already satisfied: idna<4,>=2.5 in c:\\users\\claus\\anaconda3\\envs\\environment_uoc20212pec2\\lib\\site-packages (from requests) (3.3)\n",
      "Requirement already satisfied: urllib3<1.27,>=1.21.1 in c:\\users\\claus\\anaconda3\\envs\\environment_uoc20212pec2\\lib\\site-packages (from requests) (1.26.9)\n",
      "Requirement already satisfied: charset-normalizer~=2.0.0 in c:\\users\\claus\\anaconda3\\envs\\environment_uoc20212pec2\\lib\\site-packages (from requests) (2.0.12)\n",
      "Requirement already satisfied: certifi>=2017.4.17 in c:\\users\\claus\\anaconda3\\envs\\environment_uoc20212pec2\\lib\\site-packages (from requests) (2021.10.8)\n",
      "Requirement already satisfied: lxml in c:\\users\\claus\\anaconda3\\envs\\environment_uoc20212pec2\\lib\\site-packages (4.8.0)\n"
     ]
    }
   ],
   "source": [
    "!pip install BeautifulSoup4\n",
    "!pip install requests\n",
    "!pip install lxml\n",
    "from bs4 import BeautifulSoup\n",
    "import requests\n",
    "import lxml"
   ]
  },
  {
   "cell_type": "code",
   "execution_count": 12,
   "id": "96a9639b",
   "metadata": {},
   "outputs": [
    {
     "name": "stdout",
     "output_type": "stream",
     "text": [
      "{'00h - 01h:': '0.33468 €/kWh', '01h - 02h:': '0.31902 €/kWh', '02h - 03h:': '0.30903 €/kWh', '03h - 04h:': '0.29593 €/kWh', '04h - 05h:': '0.29989 €/kWh', '05h - 06h:': '0.3092 €/kWh', '06h - 07h:': '0.32472 €/kWh', '07h - 08h:': '0.32824 €/kWh', '08h - 09h:': '0.37147 €/kWh', '09h - 10h:': '0.3673 €/kWh', '10h - 11h:': '0.42221 €/kWh', '11h - 12h:': '0.41606 €/kWh', '12h - 13h:': '0.41239 €/kWh', '13h - 14h:': '0.41127 €/kWh', '14h - 15h:': '0.33943 €/kWh', '15h - 16h:': '0.33612 €/kWh', '16h - 17h:': '0.32761 €/kWh', '17h - 18h:': '0.31185 €/kWh', '18h - 19h:': '0.39006 €/kWh', '19h - 20h:': '0.4168 €/kWh', '20h - 21h:': '0.43635 €/kWh', '21h - 22h:': '0.44541 €/kWh', '22h - 23h:': '0.35615 €/kWh', '23h - 24h:': '0.35182 €/kWh'}\n"
     ]
    }
   ],
   "source": [
    "url = 'https://tarifaluzhora.es/'\n",
    "response = requests.get(url)\n",
    "soup = BeautifulSoup(response.text, 'html.parser')\n",
    "# Accedemos a todos los bloques de información que contienen el precio según la hora\n",
    "precios_dia = soup.find_all('div', class_='col-xs-9')\n",
    "\n",
    "\n",
    "# Creamos diccionario con el precio según la hora\n",
    "precios_hora = {x.find('span').get_text('description'):x.find('span').find_next('span').get_text('description') for x in precios_dia}\n",
    "print(precios_hora)"
   ]
  },
  {
   "cell_type": "code",
   "execution_count": null,
   "id": "32a2f286",
   "metadata": {},
   "outputs": [],
   "source": []
  }
 ],
 "metadata": {
  "kernelspec": {
   "display_name": "Python 3 (ipykernel)",
   "language": "python",
   "name": "python3"
  },
  "language_info": {
   "codemirror_mode": {
    "name": "ipython",
    "version": 3
   },
   "file_extension": ".py",
   "mimetype": "text/x-python",
   "name": "python",
   "nbconvert_exporter": "python",
   "pygments_lexer": "ipython3",
   "version": "3.9.1"
  }
 },
 "nbformat": 4,
 "nbformat_minor": 5
}
